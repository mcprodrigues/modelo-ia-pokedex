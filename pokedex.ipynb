{
  "cells": [
    {
      "cell_type": "markdown",
      "metadata": {
        "id": "view-in-github",
        "colab_type": "text"
      },
      "source": [
        "<a href=\"https://colab.research.google.com/github/mcprodrigues/modelo-ia-pokedex/blob/main/pokedex.ipynb\" target=\"_parent\"><img src=\"https://colab.research.google.com/assets/colab-badge.svg\" alt=\"Open In Colab\"/></a>"
      ]
    },
    {
      "cell_type": "code",
      "execution_count": null,
      "id": "35a3571d",
      "metadata": {
        "id": "35a3571d"
      },
      "outputs": [],
      "source": [
        "import os\n",
        "import pandas as pd\n",
        "import numpy as np\n",
        "from sklearn.model_selection import train_test_split\n",
        "from sklearn.preprocessing import LabelEncoder\n",
        "from PIL import Image\n",
        "import torch\n",
        "from torch.utils.data import Dataset, DataLoader\n",
        "import torchvision.transforms as transforms\n",
        "import torch.nn as nn\n",
        "import torch.optim as optim\n",
        "from tqdm import tqdm\n",
        "import matplotlib.pyplot as plt\n",
        "\n",
        "import seaborn as sns\n",
        "\n",
        "from sklearn.metrics import (\n",
        "    accuracy_score,\n",
        "    precision_score,\n",
        "    recall_score,\n",
        "    f1_score,\n",
        "    confusion_matrix,\n",
        "    classification_report,\n",
        ")"
      ]
    },
    {
      "cell_type": "code",
      "source": [
        "device = torch.device(\"cuda\" if torch.cuda.is_available() else \"cpu\")\n",
        "print(f\"Using device: {device}\")"
      ],
      "metadata": {
        "colab": {
          "base_uri": "https://localhost:8080/"
        },
        "id": "2IAsFd-6QrnU",
        "outputId": "4ea335ae-22eb-4ba6-8d12-6169600d7ce0"
      },
      "id": "2IAsFd-6QrnU",
      "execution_count": null,
      "outputs": [
        {
          "output_type": "stream",
          "name": "stdout",
          "text": [
            "Using device: cuda\n"
          ]
        }
      ]
    },
    {
      "cell_type": "code",
      "source": [
        "from google.colab import drive\n",
        "drive.mount('/content/drive')"
      ],
      "metadata": {
        "colab": {
          "base_uri": "https://localhost:8080/"
        },
        "id": "EC-NHktIGqFA",
        "outputId": "b82dfc4a-29e6-4690-db5e-c71e210aa64d"
      },
      "id": "EC-NHktIGqFA",
      "execution_count": null,
      "outputs": [
        {
          "output_type": "stream",
          "name": "stdout",
          "text": [
            "Drive already mounted at /content/drive; to attempt to forcibly remount, call drive.mount(\"/content/drive\", force_remount=True).\n"
          ]
        }
      ]
    },
    {
      "cell_type": "code",
      "execution_count": null,
      "id": "cbc92652",
      "metadata": {
        "colab": {
          "base_uri": "https://localhost:8080/"
        },
        "id": "cbc92652",
        "outputId": "c48021f7-6e85-4ccb-aa08-4693998bd9fa"
      },
      "outputs": [
        {
          "output_type": "stream",
          "name": "stdout",
          "text": [
            "Classes únicas encontradas no dataset: ['cow' 'goat' 'ostrich' 'pigeon' 'iguana' 'possum' 'peacock' 'cat'\n",
            " 'lizard' 'horse']\n",
            "cat -> 0\n",
            "cow -> 1\n",
            "goat -> 2\n",
            "horse -> 3\n",
            "iguana -> 4\n",
            "lizard -> 5\n",
            "ostrich -> 6\n",
            "peacock -> 7\n",
            "pigeon -> 8\n",
            "possum -> 9\n"
          ]
        }
      ],
      "source": [
        "df = pd.read_csv('/content/drive/MyDrive/desafio_ia_vortex_v1/dataset.csv')\n",
        "print(f\"Classes únicas encontradas no dataset: {df['label'].unique()}\")\n",
        "\n",
        "# Label encoding\n",
        "le = LabelEncoder()\n",
        "df['label_enc'] = le.fit_transform(df['label'])\n",
        "\n",
        "# Exibir a correspondência entre labels e números\n",
        "for i, class_name in enumerate(le.classes_):\n",
        "    print(f'{class_name} -> {i}')\n",
        "\n",
        "train_df, test_df = train_test_split(df, test_size=0.2, stratify=df['label_enc'], random_state=42)\n"
      ]
    },
    {
      "cell_type": "code",
      "execution_count": null,
      "id": "da36f6e6",
      "metadata": {
        "id": "da36f6e6"
      },
      "outputs": [],
      "source": [
        "class AnimalsDataset(Dataset):\n",
        "    def __init__(self, dataframe, root_dir, transform=None):\n",
        "        self.annotations = dataframe.reset_index(drop=True)\n",
        "        self.root_dir = root_dir\n",
        "        self.transform = transform\n",
        "\n",
        "    def __len__(self):\n",
        "        return len(self.annotations)\n",
        "\n",
        "    def __getitem__(self, index):\n",
        "        img_path = os.path.join(self.root_dir, self.annotations.loc[index, 'image_path'])\n",
        "        try:\n",
        "            image = Image.open(img_path).convert('RGB')\n",
        "        except FileNotFoundError:\n",
        "            print(f'Arquivo não encontrado: {img_path}')\n",
        "\n",
        "            return self.__getitem__((index + 1) % len(self.annotations))\n",
        "\n",
        "        y_label = torch.tensor(self.annotations.loc[index, 'label_enc'])\n",
        "\n",
        "        if self.transform:\n",
        "            image = self.transform(image)\n",
        "\n",
        "        return image, y_label"
      ]
    },
    {
      "cell_type": "code",
      "execution_count": null,
      "id": "80719e91",
      "metadata": {
        "id": "80719e91"
      },
      "outputs": [],
      "source": [
        "train_transform = transforms.Compose([\n",
        "    transforms.Resize((128, 128)),\n",
        "    transforms.ToTensor(),\n",
        "    transforms.Normalize(mean=(0.5, 0.5, 0.5), std=(0.5, 0.5, 0.5))\n",
        "])\n",
        "\n",
        "test_transform = transforms.Compose([\n",
        "    transforms.Resize((128, 128)),\n",
        "    transforms.ToTensor(),\n",
        "    transforms.Normalize(mean=(0.5, 0.5, 0.5), std=(0.5, 0.5, 0.5))\n",
        "])\n"
      ]
    },
    {
      "cell_type": "code",
      "execution_count": null,
      "id": "b47ecb58-36c8-4c88-8cf6-e4261c711029",
      "metadata": {
        "id": "b47ecb58-36c8-4c88-8cf6-e4261c711029"
      },
      "outputs": [],
      "source": [
        "train_dataset = AnimalsDataset(train_df, root_dir='/content/drive/MyDrive/', transform=train_transform)\n",
        "test_dataset = AnimalsDataset(test_df, root_dir='/content/drive/MyDrive/', transform=test_transform)\n",
        "\n",
        "train_loader = DataLoader(train_dataset, batch_size=32, shuffle=True, num_workers=2)\n",
        "test_loader = DataLoader(test_dataset, batch_size=32, shuffle=False, num_workers=2)"
      ]
    },
    {
      "cell_type": "code",
      "execution_count": null,
      "id": "1e18ecb4",
      "metadata": {
        "id": "1e18ecb4"
      },
      "outputs": [],
      "source": [
        "class ClassifierCNN(nn.Module):\n",
        "    def __init__(self, num_classes):\n",
        "        super(ClassifierCNN, self).__init__()\n",
        "        self.features = nn.Sequential(\n",
        "            nn.Conv2d(3, 32, kernel_size=3, padding=1),\n",
        "            nn.ReLU(),\n",
        "            nn.MaxPool2d(2),\n",
        "            nn.Conv2d(32, 64, kernel_size=3, padding=1),\n",
        "            nn.ReLU(),\n",
        "            nn.MaxPool2d(2),\n",
        "            nn.Conv2d(64, 128, kernel_size=3, padding=1),\n",
        "            nn.ReLU(),\n",
        "            nn.MaxPool2d(2),\n",
        "        )\n",
        "        self.classifier = nn.Sequential(\n",
        "            nn.Flatten(),\n",
        "            nn.Linear(128 * 16 * 16, 256),\n",
        "            nn.ReLU(),\n",
        "            nn.Linear(256, num_classes)\n",
        "        )\n",
        "\n",
        "    def forward(self, x):\n",
        "        x = self.features(x)\n",
        "        x = self.classifier(x)\n",
        "        return x\n",
        "\n",
        "model = ClassifierCNN(len(le.classes_))\n"
      ]
    },
    {
      "cell_type": "code",
      "execution_count": null,
      "id": "88db8240",
      "metadata": {
        "id": "88db8240"
      },
      "outputs": [],
      "source": [
        "def train_epoch(model, dataloader, loss_fn, optimizer):\n",
        "    model.train()\n",
        "    running_loss = 0.0\n",
        "    correct = 0\n",
        "    total = 0\n",
        "\n",
        "    for inputs, labels in tqdm(dataloader):\n",
        "        optimizer.zero_grad()\n",
        "        outputs = model(inputs)\n",
        "        loss = loss_fn(outputs, labels)\n",
        "        loss.backward()\n",
        "        optimizer.step()\n",
        "\n",
        "        running_loss += loss.item() * inputs.size(0)\n",
        "        _, preds = torch.max(outputs, 1)\n",
        "        correct += torch.sum(preds == labels).item()\n",
        "        total += labels.size(0)\n",
        "\n",
        "    epoch_loss = running_loss / total\n",
        "    epoch_acc = correct / total\n",
        "    return epoch_loss, epoch_acc\n",
        "\n",
        "def eval_epoch(model, dataloader, loss_fn):\n",
        "    model.eval()\n",
        "    running_loss = 0.0\n",
        "    correct = 0\n",
        "    total = 0\n",
        "    with torch.no_grad():\n",
        "        for inputs, labels in tqdm(dataloader):\n",
        "            outputs = model(inputs)\n",
        "            loss = loss_fn(outputs, labels)\n",
        "            running_loss += loss.item() * inputs.size(0)\n",
        "            _, preds = torch.max(outputs, 1)\n",
        "            correct += torch.sum(preds == labels).item()\n",
        "            total += labels.size(0)\n",
        "    epoch_loss = running_loss / total\n",
        "    epoch_acc = correct / total\n",
        "    return epoch_loss, epoch_acc\n"
      ]
    },
    {
      "cell_type": "code",
      "execution_count": null,
      "id": "81caf37d",
      "metadata": {
        "colab": {
          "base_uri": "https://localhost:8080/"
        },
        "id": "81caf37d",
        "outputId": "5641381e-5292-49b3-91aa-cda8e48ce6e8"
      },
      "outputs": [
        {
          "output_type": "stream",
          "name": "stdout",
          "text": [
            "Epoch 1/10\n"
          ]
        },
        {
          "output_type": "stream",
          "name": "stderr",
          "text": [
            "100%|██████████| 54/54 [01:21<00:00,  1.50s/it]\n",
            "100%|██████████| 14/14 [01:22<00:00,  5.92s/it]\n"
          ]
        },
        {
          "output_type": "stream",
          "name": "stdout",
          "text": [
            "Train Loss: 0.7313, Train Acc: 0.7618\n",
            "Val Loss: 0.6342, Val Acc: 0.8047\n",
            "Epoch 2/10\n"
          ]
        },
        {
          "output_type": "stream",
          "name": "stderr",
          "text": [
            "100%|██████████| 54/54 [01:21<00:00,  1.51s/it]\n",
            "100%|██████████| 14/14 [00:09<00:00,  1.41it/s]\n"
          ]
        },
        {
          "output_type": "stream",
          "name": "stdout",
          "text": [
            "Train Loss: 0.4241, Train Acc: 0.8707\n",
            "Val Loss: 0.6426, Val Acc: 0.7930\n",
            "Epoch 3/10\n"
          ]
        },
        {
          "output_type": "stream",
          "name": "stderr",
          "text": [
            "100%|██████████| 54/54 [01:19<00:00,  1.47s/it]\n",
            "100%|██████████| 14/14 [00:11<00:00,  1.18it/s]\n"
          ]
        },
        {
          "output_type": "stream",
          "name": "stdout",
          "text": [
            "Train Loss: 0.2395, Train Acc: 0.9208\n",
            "Val Loss: 0.7100, Val Acc: 0.8023\n",
            "Epoch 4/10\n"
          ]
        },
        {
          "output_type": "stream",
          "name": "stderr",
          "text": [
            "100%|██████████| 54/54 [01:16<00:00,  1.42s/it]\n",
            "100%|██████████| 14/14 [00:09<00:00,  1.44it/s]\n"
          ]
        },
        {
          "output_type": "stream",
          "name": "stdout",
          "text": [
            "Train Loss: 0.0937, Train Acc: 0.9761\n",
            "Val Loss: 0.7684, Val Acc: 0.8047\n",
            "Epoch 5/10\n"
          ]
        },
        {
          "output_type": "stream",
          "name": "stderr",
          "text": [
            "100%|██████████| 54/54 [01:17<00:00,  1.44s/it]\n",
            "100%|██████████| 14/14 [00:11<00:00,  1.24it/s]\n"
          ]
        },
        {
          "output_type": "stream",
          "name": "stdout",
          "text": [
            "Train Loss: 0.0645, Train Acc: 0.9802\n",
            "Val Loss: 0.7960, Val Acc: 0.7930\n",
            "Epoch 6/10\n"
          ]
        },
        {
          "output_type": "stream",
          "name": "stderr",
          "text": [
            "100%|██████████| 54/54 [01:20<00:00,  1.48s/it]\n",
            "100%|██████████| 14/14 [00:09<00:00,  1.43it/s]\n"
          ]
        },
        {
          "output_type": "stream",
          "name": "stdout",
          "text": [
            "Train Loss: 0.0388, Train Acc: 0.9849\n",
            "Val Loss: 0.9744, Val Acc: 0.7953\n",
            "Epoch 7/10\n"
          ]
        },
        {
          "output_type": "stream",
          "name": "stderr",
          "text": [
            "100%|██████████| 54/54 [01:19<00:00,  1.47s/it]\n",
            "100%|██████████| 14/14 [00:11<00:00,  1.20it/s]\n"
          ]
        },
        {
          "output_type": "stream",
          "name": "stdout",
          "text": [
            "Train Loss: 0.0711, Train Acc: 0.9814\n",
            "Val Loss: 0.8794, Val Acc: 0.8302\n",
            "Epoch 8/10\n"
          ]
        },
        {
          "output_type": "stream",
          "name": "stderr",
          "text": [
            "100%|██████████| 54/54 [01:16<00:00,  1.41s/it]\n",
            "100%|██████████| 14/14 [00:10<00:00,  1.37it/s]\n"
          ]
        },
        {
          "output_type": "stream",
          "name": "stdout",
          "text": [
            "Train Loss: 0.0211, Train Acc: 0.9918\n",
            "Val Loss: 0.9727, Val Acc: 0.7930\n",
            "Epoch 9/10\n"
          ]
        },
        {
          "output_type": "stream",
          "name": "stderr",
          "text": [
            "100%|██████████| 54/54 [01:15<00:00,  1.40s/it]\n",
            "100%|██████████| 14/14 [00:12<00:00,  1.14it/s]\n"
          ]
        },
        {
          "output_type": "stream",
          "name": "stdout",
          "text": [
            "Train Loss: 0.0298, Train Acc: 0.9901\n",
            "Val Loss: 0.9183, Val Acc: 0.8047\n",
            "Epoch 10/10\n"
          ]
        },
        {
          "output_type": "stream",
          "name": "stderr",
          "text": [
            "100%|██████████| 54/54 [01:18<00:00,  1.44s/it]\n",
            "100%|██████████| 14/14 [00:11<00:00,  1.17it/s]"
          ]
        },
        {
          "output_type": "stream",
          "name": "stdout",
          "text": [
            "Train Loss: 0.0306, Train Acc: 0.9907\n",
            "Val Loss: 1.2070, Val Acc: 0.7744\n"
          ]
        },
        {
          "output_type": "stream",
          "name": "stderr",
          "text": [
            "\n"
          ]
        }
      ],
      "source": [
        "optimizer = torch.optim.Adam(model.parameters(), lr=0.001)\n",
        "loss_fn = nn.CrossEntropyLoss()\n",
        "num_epochs = 10\n",
        "\n",
        "for epoch in range(num_epochs):\n",
        "    print(f\"Epoch {epoch+1}/{num_epochs}\")\n",
        "    train_loss, train_acc = train_epoch(model, train_loader, loss_fn, optimizer)\n",
        "    val_loss, val_acc = eval_epoch(model, test_loader, loss_fn)\n",
        "    print(f\"Train Loss: {train_loss:.4f}, Train Acc: {train_acc:.4f}\")\n",
        "    print(f\"Val Loss: {val_loss:.4f}, Val Acc: {val_acc:.4f}\")\n"
      ]
    },
    {
      "cell_type": "code",
      "source": [
        "# Get predictions and labels from the test set\n",
        "all_preds, all_labels = get_all_preds_and_labels(model, test_loader)\n",
        "\n",
        "# Calculate metrics\n",
        "acc = accuracy_score(all_labels, all_preds)\n",
        "prec = precision_score(all_labels, all_preds, average='weighted')\n",
        "rec = recall_score(all_labels, all_preds, average='weighted')\n",
        "f1 = f1_score(all_labels, all_preds, average='weighted')\n",
        "\n",
        "metrics_dict = {\n",
        "    'Métrica': ['Acurácia', 'Precisão (weighted)', 'Recall (weighted)', 'F1-score (weighted)'],\n",
        "    'Valor': [acc, prec, rec, f1]\n",
        "}\n",
        "\n",
        "df_metrics = pd.DataFrame(metrics_dict)\n",
        "df_metrics['Valor'] = df_metrics['Valor'].apply(lambda x: f\"{x:.4f}\")\n",
        "df_metrics.style.set_properties(**{'text-align': 'center'})"
      ],
      "metadata": {
        "colab": {
          "base_uri": "https://localhost:8080/",
          "height": 175
        },
        "id": "PpQEdBo2Qd2g",
        "outputId": "88f39f43-6215-4593-b799-6a340c15cb56"
      },
      "id": "PpQEdBo2Qd2g",
      "execution_count": null,
      "outputs": [
        {
          "output_type": "execute_result",
          "data": {
            "text/plain": [
              "<pandas.io.formats.style.Styler at 0x7875d7f2f1d0>"
            ],
            "text/html": [
              "<style type=\"text/css\">\n",
              "#T_ad068_row0_col0, #T_ad068_row0_col1, #T_ad068_row1_col0, #T_ad068_row1_col1, #T_ad068_row2_col0, #T_ad068_row2_col1, #T_ad068_row3_col0, #T_ad068_row3_col1 {\n",
              "  text-align: center;\n",
              "}\n",
              "</style>\n",
              "<table id=\"T_ad068\" class=\"dataframe\">\n",
              "  <thead>\n",
              "    <tr>\n",
              "      <th class=\"blank level0\" >&nbsp;</th>\n",
              "      <th id=\"T_ad068_level0_col0\" class=\"col_heading level0 col0\" >Métrica</th>\n",
              "      <th id=\"T_ad068_level0_col1\" class=\"col_heading level0 col1\" >Valor</th>\n",
              "    </tr>\n",
              "  </thead>\n",
              "  <tbody>\n",
              "    <tr>\n",
              "      <th id=\"T_ad068_level0_row0\" class=\"row_heading level0 row0\" >0</th>\n",
              "      <td id=\"T_ad068_row0_col0\" class=\"data row0 col0\" >Acurácia</td>\n",
              "      <td id=\"T_ad068_row0_col1\" class=\"data row0 col1\" >0.7744</td>\n",
              "    </tr>\n",
              "    <tr>\n",
              "      <th id=\"T_ad068_level0_row1\" class=\"row_heading level0 row1\" >1</th>\n",
              "      <td id=\"T_ad068_row1_col0\" class=\"data row1 col0\" >Precisão (weighted)</td>\n",
              "      <td id=\"T_ad068_row1_col1\" class=\"data row1 col1\" >0.8103</td>\n",
              "    </tr>\n",
              "    <tr>\n",
              "      <th id=\"T_ad068_level0_row2\" class=\"row_heading level0 row2\" >2</th>\n",
              "      <td id=\"T_ad068_row2_col0\" class=\"data row2 col0\" >Recall (weighted)</td>\n",
              "      <td id=\"T_ad068_row2_col1\" class=\"data row2 col1\" >0.7744</td>\n",
              "    </tr>\n",
              "    <tr>\n",
              "      <th id=\"T_ad068_level0_row3\" class=\"row_heading level0 row3\" >3</th>\n",
              "      <td id=\"T_ad068_row3_col0\" class=\"data row3 col0\" >F1-score (weighted)</td>\n",
              "      <td id=\"T_ad068_row3_col1\" class=\"data row3 col1\" >0.7736</td>\n",
              "    </tr>\n",
              "  </tbody>\n",
              "</table>\n"
            ]
          },
          "metadata": {},
          "execution_count": 55
        }
      ]
    },
    {
      "cell_type": "code",
      "source": [
        "# 1) Gera a matriz de confusão em numpy\n",
        "cm = confusion_matrix(all_labels, all_preds)\n",
        "\n",
        "# 2) Plot usando seaborn (heatmap) ou matplotlib puro\n",
        "plt.figure(figsize=(9, 7))\n",
        "sns.heatmap(\n",
        "    cm,\n",
        "    annot=True,              # mostra os números dentro das células\n",
        "    fmt='d',                 # formata como inteiro\n",
        "    cmap='Blues',            # paleta de cores (pode escolher outra)\n",
        "    xticklabels=le.classes_,\n",
        "    yticklabels=le.classes_\n",
        ")\n",
        "plt.xlabel('Rótulos Preditos')\n",
        "plt.ylabel('Rótulos Verdadeiros')\n",
        "plt.title('Matriz de Confusão')\n",
        "plt.tight_layout()\n",
        "plt.show()\n"
      ],
      "metadata": {
        "colab": {
          "base_uri": "https://localhost:8080/",
          "height": 707
        },
        "id": "2OSRfBg8Roq2",
        "outputId": "6bd7c691-cb6b-41a7-a3fb-d1f6d74357a3"
      },
      "id": "2OSRfBg8Roq2",
      "execution_count": null,
      "outputs": [
        {
          "output_type": "display_data",
          "data": {
            "text/plain": [
              "<Figure size 900x700 with 2 Axes>"
            ],
            "image/png": "[encoded data removed]"
          },
          "metadata": {}
        }
      ]
    }
  ],
  "metadata": {
    "kernelspec": {
      "display_name": "Python 3",
      "name": "python3"
    },
    "language_info": {
      "codemirror_mode": {
        "name": "ipython",
        "version": 3
      },
      "file_extension": ".py",
      "mimetype": "text/x-python",
      "name": "python",
      "nbconvert_exporter": "python",
      "pygments_lexer": "ipython3",
      "version": "3.13.3"
    },
    "colab": {
      "provenance": [],
      "include_colab_link": true
    }
  },
  "nbformat": 4,
  "nbformat_minor": 5
}